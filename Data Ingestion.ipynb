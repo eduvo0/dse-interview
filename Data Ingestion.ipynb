{
 "cells": [
  {
   "cell_type": "code",
   "execution_count": 39,
   "metadata": {},
   "outputs": [],
   "source": [
    "import pandas as pd\n",
    "import psycopg2\n",
    "import csv\n",
    "import os\n",
    "import matplotlib.pyplot as plt\n",
    "import seaborn as sns\n",
    "from getpass import getpass"
   ]
  },
  {
   "cell_type": "code",
   "execution_count": 2,
   "metadata": {},
   "outputs": [
    {
     "name": "stdout",
     "output_type": "stream",
     "text": [
      "Password: ········\n"
     ]
    }
   ],
   "source": [
    "\n",
    "psw_input = getpass( 'Password: ' )"
   ]
  },
  {
   "cell_type": "code",
   "execution_count": 3,
   "metadata": {},
   "outputs": [],
   "source": [
    "#In this step we establish a connection to a postgres relational DB\n",
    "conn = psycopg2.connect(database=\"paidy-data-ingestion\",\n",
    "                        user='postgres', password=psw_input, \n",
    "                        host='127.0.0.1', port='5432'\n",
    ")\n",
    "  \n",
    "conn.autocommit = True\n",
    "cursor = conn.cursor()\n",
    "  "
   ]
  },
  {
   "cell_type": "code",
   "execution_count": 4,
   "metadata": {},
   "outputs": [],
   "source": [
    "#The sample data is import as a pandas dataframe for exploratory data analysis\n",
    "src = os.getcwd() + \"\\\\raw_data\\\\\"\n",
    "f = src + \"sample_data.csv\"\n",
    "df = pd.read_csv(f)"
   ]
  },
  {
   "cell_type": "code",
   "execution_count": 5,
   "metadata": {},
   "outputs": [
    {
     "data": {
      "text/html": [
       "<div>\n",
       "<style scoped>\n",
       "    .dataframe tbody tr th:only-of-type {\n",
       "        vertical-align: middle;\n",
       "    }\n",
       "\n",
       "    .dataframe tbody tr th {\n",
       "        vertical-align: top;\n",
       "    }\n",
       "\n",
       "    .dataframe thead th {\n",
       "        text-align: right;\n",
       "    }\n",
       "</style>\n",
       "<table border=\"1\" class=\"dataframe\">\n",
       "  <thead>\n",
       "    <tr style=\"text-align: right;\">\n",
       "      <th></th>\n",
       "      <th>Unnamed: 0</th>\n",
       "      <th>SeriousDlqin2yrs</th>\n",
       "      <th>RevolvingUtilizationOfUnsecuredLines</th>\n",
       "      <th>age</th>\n",
       "      <th>NumberOfTime30-59DaysPastDueNotWorse</th>\n",
       "      <th>DebtRatio</th>\n",
       "      <th>MonthlyIncome</th>\n",
       "      <th>NumberOfOpenCreditLinesAndLoans</th>\n",
       "      <th>NumberOfTimes90DaysLate</th>\n",
       "      <th>NumberRealEstateLoansOrLines</th>\n",
       "      <th>NumberOfTime60-89DaysPastDueNotWorse</th>\n",
       "      <th>NumberOfDependents</th>\n",
       "    </tr>\n",
       "  </thead>\n",
       "  <tbody>\n",
       "    <tr>\n",
       "      <th>0</th>\n",
       "      <td>1</td>\n",
       "      <td>1</td>\n",
       "      <td>0.766127</td>\n",
       "      <td>45</td>\n",
       "      <td>2</td>\n",
       "      <td>0.802982</td>\n",
       "      <td>9120.0</td>\n",
       "      <td>13</td>\n",
       "      <td>0</td>\n",
       "      <td>6</td>\n",
       "      <td>0</td>\n",
       "      <td>2.0</td>\n",
       "    </tr>\n",
       "    <tr>\n",
       "      <th>1</th>\n",
       "      <td>2</td>\n",
       "      <td>0</td>\n",
       "      <td>0.957151</td>\n",
       "      <td>40</td>\n",
       "      <td>0</td>\n",
       "      <td>0.121876</td>\n",
       "      <td>2600.0</td>\n",
       "      <td>4</td>\n",
       "      <td>0</td>\n",
       "      <td>0</td>\n",
       "      <td>0</td>\n",
       "      <td>1.0</td>\n",
       "    </tr>\n",
       "    <tr>\n",
       "      <th>2</th>\n",
       "      <td>3</td>\n",
       "      <td>0</td>\n",
       "      <td>0.658180</td>\n",
       "      <td>38</td>\n",
       "      <td>1</td>\n",
       "      <td>0.085113</td>\n",
       "      <td>3042.0</td>\n",
       "      <td>2</td>\n",
       "      <td>1</td>\n",
       "      <td>0</td>\n",
       "      <td>0</td>\n",
       "      <td>0.0</td>\n",
       "    </tr>\n",
       "    <tr>\n",
       "      <th>3</th>\n",
       "      <td>4</td>\n",
       "      <td>0</td>\n",
       "      <td>0.233810</td>\n",
       "      <td>30</td>\n",
       "      <td>0</td>\n",
       "      <td>0.036050</td>\n",
       "      <td>3300.0</td>\n",
       "      <td>5</td>\n",
       "      <td>0</td>\n",
       "      <td>0</td>\n",
       "      <td>0</td>\n",
       "      <td>0.0</td>\n",
       "    </tr>\n",
       "    <tr>\n",
       "      <th>4</th>\n",
       "      <td>5</td>\n",
       "      <td>0</td>\n",
       "      <td>0.907239</td>\n",
       "      <td>49</td>\n",
       "      <td>1</td>\n",
       "      <td>0.024926</td>\n",
       "      <td>63588.0</td>\n",
       "      <td>7</td>\n",
       "      <td>0</td>\n",
       "      <td>1</td>\n",
       "      <td>0</td>\n",
       "      <td>0.0</td>\n",
       "    </tr>\n",
       "  </tbody>\n",
       "</table>\n",
       "</div>"
      ],
      "text/plain": [
       "   Unnamed: 0  SeriousDlqin2yrs  RevolvingUtilizationOfUnsecuredLines  age  \\\n",
       "0           1                 1                              0.766127   45   \n",
       "1           2                 0                              0.957151   40   \n",
       "2           3                 0                              0.658180   38   \n",
       "3           4                 0                              0.233810   30   \n",
       "4           5                 0                              0.907239   49   \n",
       "\n",
       "   NumberOfTime30-59DaysPastDueNotWorse  DebtRatio  MonthlyIncome  \\\n",
       "0                                     2   0.802982         9120.0   \n",
       "1                                     0   0.121876         2600.0   \n",
       "2                                     1   0.085113         3042.0   \n",
       "3                                     0   0.036050         3300.0   \n",
       "4                                     1   0.024926        63588.0   \n",
       "\n",
       "   NumberOfOpenCreditLinesAndLoans  NumberOfTimes90DaysLate  \\\n",
       "0                               13                        0   \n",
       "1                                4                        0   \n",
       "2                                2                        1   \n",
       "3                                5                        0   \n",
       "4                                7                        0   \n",
       "\n",
       "   NumberRealEstateLoansOrLines  NumberOfTime60-89DaysPastDueNotWorse  \\\n",
       "0                             6                                     0   \n",
       "1                             0                                     0   \n",
       "2                             0                                     0   \n",
       "3                             0                                     0   \n",
       "4                             1                                     0   \n",
       "\n",
       "   NumberOfDependents  \n",
       "0                 2.0  \n",
       "1                 1.0  \n",
       "2                 0.0  \n",
       "3                 0.0  \n",
       "4                 0.0  "
      ]
     },
     "execution_count": 5,
     "metadata": {},
     "output_type": "execute_result"
    }
   ],
   "source": [
    "df.head()"
   ]
  },
  {
   "cell_type": "code",
   "execution_count": 6,
   "metadata": {},
   "outputs": [
    {
     "name": "stdout",
     "output_type": "stream",
     "text": [
      "<class 'pandas.core.frame.DataFrame'>\n",
      "RangeIndex: 150000 entries, 0 to 149999\n",
      "Data columns (total 12 columns):\n",
      " #   Column                                Non-Null Count   Dtype  \n",
      "---  ------                                --------------   -----  \n",
      " 0   Unnamed: 0                            150000 non-null  int64  \n",
      " 1   SeriousDlqin2yrs                      150000 non-null  int64  \n",
      " 2   RevolvingUtilizationOfUnsecuredLines  150000 non-null  float64\n",
      " 3   age                                   150000 non-null  int64  \n",
      " 4   NumberOfTime30-59DaysPastDueNotWorse  150000 non-null  int64  \n",
      " 5   DebtRatio                             150000 non-null  float64\n",
      " 6   MonthlyIncome                         120269 non-null  float64\n",
      " 7   NumberOfOpenCreditLinesAndLoans       150000 non-null  int64  \n",
      " 8   NumberOfTimes90DaysLate               150000 non-null  int64  \n",
      " 9   NumberRealEstateLoansOrLines          150000 non-null  int64  \n",
      " 10  NumberOfTime60-89DaysPastDueNotWorse  150000 non-null  int64  \n",
      " 11  NumberOfDependents                    146076 non-null  float64\n",
      "dtypes: float64(4), int64(8)\n",
      "memory usage: 13.7 MB\n"
     ]
    }
   ],
   "source": [
    "#from this function we can notice that the data consists of float and int values however some occurencies contain null values.\n",
    "#null values should be converted to 0 in order to ease the SQL upload and prevent types errors\n",
    "df.info()"
   ]
  },
  {
   "cell_type": "code",
   "execution_count": 7,
   "metadata": {},
   "outputs": [],
   "source": [
    "df = df.fillna(0)"
   ]
  },
  {
   "cell_type": "code",
   "execution_count": 16,
   "metadata": {},
   "outputs": [
    {
     "data": {
      "text/plain": [
       "(150000, 12)"
      ]
     },
     "execution_count": 16,
     "metadata": {},
     "output_type": "execute_result"
    }
   ],
   "source": [
    "df.shape"
   ]
  },
  {
   "cell_type": "code",
   "execution_count": 8,
   "metadata": {},
   "outputs": [
    {
     "name": "stdout",
     "output_type": "stream",
     "text": [
      "<class 'pandas.core.frame.DataFrame'>\n",
      "RangeIndex: 150000 entries, 0 to 149999\n",
      "Data columns (total 12 columns):\n",
      " #   Column                                Non-Null Count   Dtype  \n",
      "---  ------                                --------------   -----  \n",
      " 0   Unnamed: 0                            150000 non-null  int64  \n",
      " 1   SeriousDlqin2yrs                      150000 non-null  int64  \n",
      " 2   RevolvingUtilizationOfUnsecuredLines  150000 non-null  float64\n",
      " 3   age                                   150000 non-null  int64  \n",
      " 4   NumberOfTime30-59DaysPastDueNotWorse  150000 non-null  int64  \n",
      " 5   DebtRatio                             150000 non-null  float64\n",
      " 6   MonthlyIncome                         150000 non-null  float64\n",
      " 7   NumberOfOpenCreditLinesAndLoans       150000 non-null  int64  \n",
      " 8   NumberOfTimes90DaysLate               150000 non-null  int64  \n",
      " 9   NumberRealEstateLoansOrLines          150000 non-null  int64  \n",
      " 10  NumberOfTime60-89DaysPastDueNotWorse  150000 non-null  int64  \n",
      " 11  NumberOfDependents                    150000 non-null  float64\n",
      "dtypes: float64(4), int64(8)\n",
      "memory usage: 13.7 MB\n"
     ]
    }
   ],
   "source": [
    "#the null values have been cleared\n",
    "df.info()"
   ]
  },
  {
   "cell_type": "code",
   "execution_count": 21,
   "metadata": {},
   "outputs": [
    {
     "data": {
      "text/html": [
       "<div>\n",
       "<style scoped>\n",
       "    .dataframe tbody tr th:only-of-type {\n",
       "        vertical-align: middle;\n",
       "    }\n",
       "\n",
       "    .dataframe tbody tr th {\n",
       "        vertical-align: top;\n",
       "    }\n",
       "\n",
       "    .dataframe thead th {\n",
       "        text-align: right;\n",
       "    }\n",
       "</style>\n",
       "<table border=\"1\" class=\"dataframe\">\n",
       "  <thead>\n",
       "    <tr style=\"text-align: right;\">\n",
       "      <th></th>\n",
       "      <th>SeriousDlqin2yrs</th>\n",
       "      <th>RevolvingUtilizationOfUnsecuredLines</th>\n",
       "      <th>age</th>\n",
       "      <th>NumberOfTime30-59DaysPastDueNotWorse</th>\n",
       "      <th>DebtRatio</th>\n",
       "      <th>MonthlyIncome</th>\n",
       "    </tr>\n",
       "  </thead>\n",
       "  <tbody>\n",
       "    <tr>\n",
       "      <th>count</th>\n",
       "      <td>150000.000000</td>\n",
       "      <td>150000.000000</td>\n",
       "      <td>150000.000000</td>\n",
       "      <td>150000.000000</td>\n",
       "      <td>150000.000000</td>\n",
       "      <td>1.500000e+05</td>\n",
       "    </tr>\n",
       "    <tr>\n",
       "      <th>mean</th>\n",
       "      <td>0.066840</td>\n",
       "      <td>6.048438</td>\n",
       "      <td>52.295207</td>\n",
       "      <td>0.421033</td>\n",
       "      <td>353.005076</td>\n",
       "      <td>5.348139e+03</td>\n",
       "    </tr>\n",
       "    <tr>\n",
       "      <th>std</th>\n",
       "      <td>0.249746</td>\n",
       "      <td>249.755371</td>\n",
       "      <td>14.771866</td>\n",
       "      <td>4.192781</td>\n",
       "      <td>2037.818523</td>\n",
       "      <td>1.315206e+04</td>\n",
       "    </tr>\n",
       "    <tr>\n",
       "      <th>min</th>\n",
       "      <td>0.000000</td>\n",
       "      <td>0.000000</td>\n",
       "      <td>0.000000</td>\n",
       "      <td>0.000000</td>\n",
       "      <td>0.000000</td>\n",
       "      <td>0.000000e+00</td>\n",
       "    </tr>\n",
       "    <tr>\n",
       "      <th>25%</th>\n",
       "      <td>0.000000</td>\n",
       "      <td>0.029867</td>\n",
       "      <td>41.000000</td>\n",
       "      <td>0.000000</td>\n",
       "      <td>0.175074</td>\n",
       "      <td>1.550000e+03</td>\n",
       "    </tr>\n",
       "    <tr>\n",
       "      <th>50%</th>\n",
       "      <td>0.000000</td>\n",
       "      <td>0.154181</td>\n",
       "      <td>52.000000</td>\n",
       "      <td>0.000000</td>\n",
       "      <td>0.366508</td>\n",
       "      <td>4.357500e+03</td>\n",
       "    </tr>\n",
       "    <tr>\n",
       "      <th>75%</th>\n",
       "      <td>0.000000</td>\n",
       "      <td>0.559046</td>\n",
       "      <td>63.000000</td>\n",
       "      <td>0.000000</td>\n",
       "      <td>0.868254</td>\n",
       "      <td>7.400000e+03</td>\n",
       "    </tr>\n",
       "    <tr>\n",
       "      <th>max</th>\n",
       "      <td>1.000000</td>\n",
       "      <td>50708.000000</td>\n",
       "      <td>109.000000</td>\n",
       "      <td>98.000000</td>\n",
       "      <td>329664.000000</td>\n",
       "      <td>3.008750e+06</td>\n",
       "    </tr>\n",
       "  </tbody>\n",
       "</table>\n",
       "</div>"
      ],
      "text/plain": [
       "       SeriousDlqin2yrs  RevolvingUtilizationOfUnsecuredLines            age  \\\n",
       "count     150000.000000                         150000.000000  150000.000000   \n",
       "mean           0.066840                              6.048438      52.295207   \n",
       "std            0.249746                            249.755371      14.771866   \n",
       "min            0.000000                              0.000000       0.000000   \n",
       "25%            0.000000                              0.029867      41.000000   \n",
       "50%            0.000000                              0.154181      52.000000   \n",
       "75%            0.000000                              0.559046      63.000000   \n",
       "max            1.000000                          50708.000000     109.000000   \n",
       "\n",
       "       NumberOfTime30-59DaysPastDueNotWorse      DebtRatio  MonthlyIncome  \n",
       "count                         150000.000000  150000.000000   1.500000e+05  \n",
       "mean                               0.421033     353.005076   5.348139e+03  \n",
       "std                                4.192781    2037.818523   1.315206e+04  \n",
       "min                                0.000000       0.000000   0.000000e+00  \n",
       "25%                                0.000000       0.175074   1.550000e+03  \n",
       "50%                                0.000000       0.366508   4.357500e+03  \n",
       "75%                                0.000000       0.868254   7.400000e+03  \n",
       "max                               98.000000  329664.000000   3.008750e+06  "
      ]
     },
     "execution_count": 21,
     "metadata": {},
     "output_type": "execute_result"
    }
   ],
   "source": [
    "df[[\"SeriousDlqin2yrs\", \"RevolvingUtilizationOfUnsecuredLines\",\"age\", \"NumberOfTime30-59DaysPastDueNotWorse\", \"DebtRatio\",\"MonthlyIncome\"]].describe()"
   ]
  },
  {
   "cell_type": "code",
   "execution_count": 22,
   "metadata": {},
   "outputs": [
    {
     "data": {
      "text/html": [
       "<div>\n",
       "<style scoped>\n",
       "    .dataframe tbody tr th:only-of-type {\n",
       "        vertical-align: middle;\n",
       "    }\n",
       "\n",
       "    .dataframe tbody tr th {\n",
       "        vertical-align: top;\n",
       "    }\n",
       "\n",
       "    .dataframe thead th {\n",
       "        text-align: right;\n",
       "    }\n",
       "</style>\n",
       "<table border=\"1\" class=\"dataframe\">\n",
       "  <thead>\n",
       "    <tr style=\"text-align: right;\">\n",
       "      <th></th>\n",
       "      <th>NumberOfOpenCreditLinesAndLoans</th>\n",
       "      <th>NumberOfTimes90DaysLate</th>\n",
       "      <th>NumberRealEstateLoansOrLines</th>\n",
       "      <th>NumberOfTime60-89DaysPastDueNotWorse</th>\n",
       "      <th>NumberOfDependents</th>\n",
       "    </tr>\n",
       "  </thead>\n",
       "  <tbody>\n",
       "    <tr>\n",
       "      <th>count</th>\n",
       "      <td>150000.000000</td>\n",
       "      <td>150000.000000</td>\n",
       "      <td>150000.000000</td>\n",
       "      <td>150000.000000</td>\n",
       "      <td>150000.000000</td>\n",
       "    </tr>\n",
       "    <tr>\n",
       "      <th>mean</th>\n",
       "      <td>8.452760</td>\n",
       "      <td>0.265973</td>\n",
       "      <td>1.018240</td>\n",
       "      <td>0.240387</td>\n",
       "      <td>0.737413</td>\n",
       "    </tr>\n",
       "    <tr>\n",
       "      <th>std</th>\n",
       "      <td>5.145951</td>\n",
       "      <td>4.169304</td>\n",
       "      <td>1.129771</td>\n",
       "      <td>4.155179</td>\n",
       "      <td>1.107021</td>\n",
       "    </tr>\n",
       "    <tr>\n",
       "      <th>min</th>\n",
       "      <td>0.000000</td>\n",
       "      <td>0.000000</td>\n",
       "      <td>0.000000</td>\n",
       "      <td>0.000000</td>\n",
       "      <td>0.000000</td>\n",
       "    </tr>\n",
       "    <tr>\n",
       "      <th>25%</th>\n",
       "      <td>5.000000</td>\n",
       "      <td>0.000000</td>\n",
       "      <td>0.000000</td>\n",
       "      <td>0.000000</td>\n",
       "      <td>0.000000</td>\n",
       "    </tr>\n",
       "    <tr>\n",
       "      <th>50%</th>\n",
       "      <td>8.000000</td>\n",
       "      <td>0.000000</td>\n",
       "      <td>1.000000</td>\n",
       "      <td>0.000000</td>\n",
       "      <td>0.000000</td>\n",
       "    </tr>\n",
       "    <tr>\n",
       "      <th>75%</th>\n",
       "      <td>11.000000</td>\n",
       "      <td>0.000000</td>\n",
       "      <td>2.000000</td>\n",
       "      <td>0.000000</td>\n",
       "      <td>1.000000</td>\n",
       "    </tr>\n",
       "    <tr>\n",
       "      <th>max</th>\n",
       "      <td>58.000000</td>\n",
       "      <td>98.000000</td>\n",
       "      <td>54.000000</td>\n",
       "      <td>98.000000</td>\n",
       "      <td>20.000000</td>\n",
       "    </tr>\n",
       "  </tbody>\n",
       "</table>\n",
       "</div>"
      ],
      "text/plain": [
       "       NumberOfOpenCreditLinesAndLoans  NumberOfTimes90DaysLate  \\\n",
       "count                    150000.000000            150000.000000   \n",
       "mean                          8.452760                 0.265973   \n",
       "std                           5.145951                 4.169304   \n",
       "min                           0.000000                 0.000000   \n",
       "25%                           5.000000                 0.000000   \n",
       "50%                           8.000000                 0.000000   \n",
       "75%                          11.000000                 0.000000   \n",
       "max                          58.000000                98.000000   \n",
       "\n",
       "       NumberRealEstateLoansOrLines  NumberOfTime60-89DaysPastDueNotWorse  \\\n",
       "count                 150000.000000                         150000.000000   \n",
       "mean                       1.018240                              0.240387   \n",
       "std                        1.129771                              4.155179   \n",
       "min                        0.000000                              0.000000   \n",
       "25%                        0.000000                              0.000000   \n",
       "50%                        1.000000                              0.000000   \n",
       "75%                        2.000000                              0.000000   \n",
       "max                       54.000000                             98.000000   \n",
       "\n",
       "       NumberOfDependents  \n",
       "count       150000.000000  \n",
       "mean             0.737413  \n",
       "std              1.107021  \n",
       "min              0.000000  \n",
       "25%              0.000000  \n",
       "50%              0.000000  \n",
       "75%              1.000000  \n",
       "max             20.000000  "
      ]
     },
     "execution_count": 22,
     "metadata": {},
     "output_type": "execute_result"
    }
   ],
   "source": [
    "df[[\"NumberOfOpenCreditLinesAndLoans\",\"NumberOfTimes90DaysLate\", \"NumberRealEstateLoansOrLines\", \"NumberOfTime60-89DaysPastDueNotWorse\", \"NumberOfDependents\"]].describe()"
   ]
  },
  {
   "cell_type": "code",
   "execution_count": 23,
   "metadata": {},
   "outputs": [
    {
     "data": {
      "text/plain": [
       "0    139974\n",
       "1     10026\n",
       "Name: SeriousDlqin2yrs, dtype: int64"
      ]
     },
     "execution_count": 23,
     "metadata": {},
     "output_type": "execute_result"
    }
   ],
   "source": [
    "df[\"SeriousDlqin2yrs\"].value_counts()"
   ]
  },
  {
   "cell_type": "code",
   "execution_count": 27,
   "metadata": {},
   "outputs": [
    {
     "data": {
      "image/png": "[encoded data removed]",
      "text/plain": [
       "<Figure size 432x288 with 1 Axes>"
      ]
     },
     "metadata": {
      "needs_background": "light"
     },
     "output_type": "display_data"
    }
   ],
   "source": [
    "sns.countplot(x=\"SeriousDlqin2yrs\", data=df).set(title='Person experienced 90 days past due delinquency or worse');\n"
   ]
  },
  {
   "cell_type": "code",
   "execution_count": 48,
   "metadata": {},
   "outputs": [
    {
     "data": {
      "text/plain": [
       "[<matplotlib.lines.Line2D at 0x296ad921b38>]"
      ]
     },
     "execution_count": 48,
     "metadata": {},
     "output_type": "execute_result"
    },
    {
     "data": {
      "image/png": "[encoded data removed]",
      "text/plain": [
       "<Figure size 432x288 with 1 Axes>"
      ]
     },
     "metadata": {
      "needs_background": "light"
     },
     "output_type": "display_data"
    }
   ],
   "source": [
    "plt.xlabel('User Index')\n",
    "plt.ylabel('Age')\n",
    "plt.title('Loan Applicant Age')\n",
    "plt.plot(df[\"Unnamed: 0\"], df[\"age\"])"
   ]
  },
  {
   "cell_type": "code",
   "execution_count": 49,
   "metadata": {},
   "outputs": [
    {
     "data": {
      "text/plain": [
       "49     3837\n",
       "48     3806\n",
       "50     3753\n",
       "47     3719\n",
       "63     3719\n",
       "       ... \n",
       "102       3\n",
       "109       2\n",
       "107       1\n",
       "105       1\n",
       "0         1\n",
       "Name: age, Length: 86, dtype: int64"
      ]
     },
     "execution_count": 49,
     "metadata": {},
     "output_type": "execute_result"
    }
   ],
   "source": [
    "df[\"age\"].value_counts()"
   ]
  },
  {
   "cell_type": "code",
   "execution_count": 50,
   "metadata": {},
   "outputs": [
    {
     "data": {
      "text/plain": [
       "[<matplotlib.lines.Line2D at 0x296ad981a58>]"
      ]
     },
     "execution_count": 50,
     "metadata": {},
     "output_type": "execute_result"
    },
    {
     "data": {
      "image/png": "[encoded data removed]",
      "text/plain": [
       "<Figure size 432x288 with 1 Axes>"
      ]
     },
     "metadata": {
      "needs_background": "light"
     },
     "output_type": "display_data"
    }
   ],
   "source": [
    "plt.xlabel('User Index')\n",
    "plt.ylabel('Number of Days')\n",
    "plt.title('Number of times borrower has been 30-59 days past due but no worse in the last 2 years.')\n",
    "plt.plot(df[\"Unnamed: 0\"], df[\"NumberOfTime30-59DaysPastDueNotWorse\"])"
   ]
  },
  {
   "cell_type": "code",
   "execution_count": 51,
   "metadata": {},
   "outputs": [
    {
     "data": {
      "text/plain": [
       "[<matplotlib.lines.Line2D at 0x296ad9e8438>]"
      ]
     },
     "execution_count": 51,
     "metadata": {},
     "output_type": "execute_result"
    },
    {
     "data": {
      "image/png": "[encoded data removed]",
      "text/plain": [
       "<Figure size 432x288 with 1 Axes>"
      ]
     },
     "metadata": {
      "needs_background": "light"
     },
     "output_type": "display_data"
    }
   ],
   "source": [
    "plt.xlabel('User Index')\n",
    "plt.ylabel('Balance/sum of credit limits')\n",
    "plt.title('Total balance on credit cards and personal lines of credit except real estate and installment debt')\n",
    "plt.plot(df[\"Unnamed: 0\"], df[\"DebtRatio\"])"
   ]
  },
  {
   "cell_type": "code",
   "execution_count": 53,
   "metadata": {},
   "outputs": [
    {
     "data": {
      "text/plain": [
       "[<matplotlib.lines.Line2D at 0x296b4c132b0>]"
      ]
     },
     "execution_count": 53,
     "metadata": {},
     "output_type": "execute_result"
    },
    {
     "data": {
      "image/png": "[encoded data removed]",
      "text/plain": [
       "<Figure size 432x288 with 1 Axes>"
      ]
     },
     "metadata": {
      "needs_background": "light"
     },
     "output_type": "display_data"
    }
   ],
   "source": [
    "plt.xlabel('User Index')\n",
    "plt.ylabel('Debt Ratio')\n",
    "plt.title('Monthly debt payments, alimony, and living costs divided by monthly gross income.')\n",
    "plt.plot(df[\"Unnamed: 0\"], df[\"DebtRatio\"])"
   ]
  },
  {
   "cell_type": "code",
   "execution_count": 54,
   "metadata": {},
   "outputs": [
    {
     "data": {
      "text/plain": [
       "[<matplotlib.lines.Line2D at 0x296b4c76668>]"
      ]
     },
     "execution_count": 54,
     "metadata": {},
     "output_type": "execute_result"
    },
    {
     "data": {
      "image/png": "[encoded data removed]",
      "text/plain": [
       "<Figure size 432x288 with 1 Axes>"
      ]
     },
     "metadata": {
      "needs_background": "light"
     },
     "output_type": "display_data"
    }
   ],
   "source": [
    "plt.xlabel('User Index')\n",
    "plt.ylabel('Monthly Income')\n",
    "plt.title('Loan Applicants Monthly Income')\n",
    "plt.plot(df[\"Unnamed: 0\"], df[\"MonthlyIncome\"])"
   ]
  },
  {
   "cell_type": "code",
   "execution_count": 83,
   "metadata": {},
   "outputs": [
    {
     "name": "stdout",
     "output_type": "stream",
     "text": [
      "<class 'pandas.core.frame.DataFrame'>\n",
      "Int64Index: 12 entries, 35973 to 137426\n",
      "Data columns (total 12 columns):\n",
      " #   Column                                Non-Null Count  Dtype  \n",
      "---  ------                                --------------  -----  \n",
      " 0   Unnamed: 0                            12 non-null     int64  \n",
      " 1   SeriousDlqin2yrs                      12 non-null     int64  \n",
      " 2   RevolvingUtilizationOfUnsecuredLines  12 non-null     float64\n",
      " 3   age                                   12 non-null     int64  \n",
      " 4   NumberOfTime30-59DaysPastDueNotWorse  12 non-null     int64  \n",
      " 5   DebtRatio                             12 non-null     float64\n",
      " 6   MonthlyIncome                         12 non-null     float64\n",
      " 7   NumberOfOpenCreditLinesAndLoans       12 non-null     int64  \n",
      " 8   NumberOfTimes90DaysLate               12 non-null     int64  \n",
      " 9   NumberRealEstateLoansOrLines          12 non-null     int64  \n",
      " 10  NumberOfTime60-89DaysPastDueNotWorse  12 non-null     int64  \n",
      " 11  NumberOfDependents                    12 non-null     float64\n",
      "dtypes: float64(4), int64(8)\n",
      "memory usage: 1.2 KB\n"
     ]
    }
   ],
   "source": [
    "df[df[\"MonthlyIncome\"] > 500000.0].info()"
   ]
  },
  {
   "cell_type": "code",
   "execution_count": 55,
   "metadata": {},
   "outputs": [
    {
     "data": {
      "text/plain": [
       "[<matplotlib.lines.Line2D at 0x296b4cdfb00>]"
      ]
     },
     "execution_count": 55,
     "metadata": {},
     "output_type": "execute_result"
    },
    {
     "data": {
      "image/png": "[encoded data removed]",
      "text/plain": [
       "<Figure size 432x288 with 1 Axes>"
      ]
     },
     "metadata": {
      "needs_background": "light"
     },
     "output_type": "display_data"
    }
   ],
   "source": [
    "plt.xlabel('User Index')\n",
    "plt.ylabel('Number of open loans')\n",
    "plt.title('Number of open loans (e.g. car loan, mortgage) and lines of credit (e.g. credit cards).')\n",
    "plt.plot(df[\"Unnamed: 0\"], df[\"NumberOfOpenCreditLinesAndLoans\"])"
   ]
  },
  {
   "cell_type": "code",
   "execution_count": 56,
   "metadata": {},
   "outputs": [
    {
     "data": {
      "text/plain": [
       "[<matplotlib.lines.Line2D at 0x296b4d3cd30>]"
      ]
     },
     "execution_count": 56,
     "metadata": {},
     "output_type": "execute_result"
    },
    {
     "data": {
      "image/png": "[encoded data removed]",
      "text/plain": [
       "<Figure size 432x288 with 1 Axes>"
      ]
     },
     "metadata": {
      "needs_background": "light"
     },
     "output_type": "display_data"
    }
   ],
   "source": [
    "plt.xlabel('User Index')\n",
    "plt.ylabel('Number of times past due')\n",
    "plt.title('Number of times borrower has been 90 days or more past due.')\n",
    "plt.plot(df[\"Unnamed: 0\"], df[\"NumberOfTimes90DaysLate\"])"
   ]
  },
  {
   "cell_type": "code",
   "execution_count": 57,
   "metadata": {},
   "outputs": [
    {
     "data": {
      "text/plain": [
       "[<matplotlib.lines.Line2D at 0x296b4d933c8>]"
      ]
     },
     "execution_count": 57,
     "metadata": {},
     "output_type": "execute_result"
    },
    {
     "data": {
      "image/png": "[encoded data removed]",
      "text/plain": [
       "<Figure size 432x288 with 1 Axes>"
      ]
     },
     "metadata": {
      "needs_background": "light"
     },
     "output_type": "display_data"
    }
   ],
   "source": [
    "plt.xlabel('User Index')\n",
    "plt.ylabel('Number of mortgage and real estate loans')\n",
    "plt.title('Number of mortgage and real estate loans including home equity lines of credit.')\n",
    "plt.plot(df[\"Unnamed: 0\"], df[\"NumberRealEstateLoansOrLines\"])"
   ]
  },
  {
   "cell_type": "code",
   "execution_count": 58,
   "metadata": {},
   "outputs": [
    {
     "data": {
      "text/plain": [
       "[<matplotlib.lines.Line2D at 0x296b4dea668>]"
      ]
     },
     "execution_count": 58,
     "metadata": {},
     "output_type": "execute_result"
    },
    {
     "data": {
      "image/png": "[encoded data removed]",
      "text/plain": [
       "<Figure size 432x288 with 1 Axes>"
      ]
     },
     "metadata": {
      "needs_background": "light"
     },
     "output_type": "display_data"
    }
   ],
   "source": [
    "plt.xlabel('User Index')\n",
    "plt.ylabel('Number of times 60-89 past due')\n",
    "plt.title('Number of times borrower has been 60-89 days past due but no worse in the last 2 years.')\n",
    "plt.plot(df[\"Unnamed: 0\"], df[\"NumberOfTime60-89DaysPastDueNotWorse\"])"
   ]
  },
  {
   "cell_type": "code",
   "execution_count": 59,
   "metadata": {},
   "outputs": [
    {
     "data": {
      "text/plain": [
       "[<matplotlib.lines.Line2D at 0x296b5543b70>]"
      ]
     },
     "execution_count": 59,
     "metadata": {},
     "output_type": "execute_result"
    },
    {
     "data": {
      "image/png": "[encoded data removed]",
      "text/plain": [
       "<Figure size 432x288 with 1 Axes>"
      ]
     },
     "metadata": {
      "needs_background": "light"
     },
     "output_type": "display_data"
    }
   ],
   "source": [
    "plt.xlabel('User Index')\n",
    "plt.ylabel('Number of dependents')\n",
    "plt.title('Number of dependents in family excluding applicant (spouse, children, etc...).')\n",
    "plt.plot(df[\"Unnamed: 0\"], df[\"NumberOfDependents\"])"
   ]
  },
  {
   "cell_type": "code",
   "execution_count": 77,
   "metadata": {},
   "outputs": [
    {
     "data": {
      "text/plain": [
       "<matplotlib.collections.PathCollection at 0x296c0e8a4e0>"
      ]
     },
     "execution_count": 77,
     "metadata": {},
     "output_type": "execute_result"
    },
    {
     "data": {
      "image/png": "[encoded data removed]",
      "text/plain": [
       "<Figure size 432x288 with 1 Axes>"
      ]
     },
     "metadata": {
      "needs_background": "light"
     },
     "output_type": "display_data"
    }
   ],
   "source": [
    "plt.xlabel('Age')\n",
    "plt.ylabel('Number of Open Credit Lines')\n",
    "plt.title('Age vs Open Credit Lines')\n",
    "plt.scatter(df[\"age\"], df[\"NumberOfOpenCreditLinesAndLoans\"], s=0.5)"
   ]
  },
  {
   "cell_type": "code",
   "execution_count": 78,
   "metadata": {},
   "outputs": [
    {
     "data": {
      "text/plain": [
       "<matplotlib.collections.PathCollection at 0x296c10c52e8>"
      ]
     },
     "execution_count": 78,
     "metadata": {},
     "output_type": "execute_result"
    },
    {
     "data": {
      "image/png": "[encoded data removed]",
      "text/plain": [
       "<Figure size 432x288 with 1 Axes>"
      ]
     },
     "metadata": {
      "needs_background": "light"
     },
     "output_type": "display_data"
    }
   ],
   "source": [
    "plt.xlabel('Monthly Income')\n",
    "plt.ylabel('Debt Ratio')\n",
    "plt.title('Debt vs Income')\n",
    "plt.scatter(df[\"MonthlyIncome\"], df[\"DebtRatio\"], s=0.5)"
   ]
  },
  {
   "cell_type": "code",
   "execution_count": 72,
   "metadata": {},
   "outputs": [
    {
     "data": {
      "text/html": [
       "<style type=\"text/css\">\n",
       "#T_d39dd_row0_col0, #T_d39dd_row1_col1, #T_d39dd_row2_col2, #T_d39dd_row3_col3, #T_d39dd_row4_col4, #T_d39dd_row5_col5, #T_d39dd_row6_col6, #T_d39dd_row7_col7, #T_d39dd_row8_col8, #T_d39dd_row9_col9, #T_d39dd_row10_col10, #T_d39dd_row11_col11 {\n",
       "  background-color: #00441b;\n",
       "  color: #f1f1f1;\n",
       "}\n",
       "#T_d39dd_row0_col1 {\n",
       "  background-color: #e8f6e3;\n",
       "  color: #000000;\n",
       "}\n",
       "#T_d39dd_row0_col2, #T_d39dd_row3_col10, #T_d39dd_row4_col9, #T_d39dd_row5_col2, #T_d39dd_row11_col2 {\n",
       "  background-color: #f5fbf3;\n",
       "  color: #000000;\n",
       "}\n",
       "#T_d39dd_row0_col3, #T_d39dd_row1_col8, #T_d39dd_row6_col3, #T_d39dd_row9_col6 {\n",
       "  background-color: #d8f0d2;\n",
       "  color: #000000;\n",
       "}\n",
       "#T_d39dd_row0_col4, #T_d39dd_row1_col5, #T_d39dd_row4_col5, #T_d39dd_row5_col10, #T_d39dd_row6_col8, #T_d39dd_row10_col5 {\n",
       "  background-color: #eff9eb;\n",
       "  color: #000000;\n",
       "}\n",
       "#T_d39dd_row0_col5, #T_d39dd_row0_col10, #T_d39dd_row2_col7, #T_d39dd_row2_col10, #T_d39dd_row5_col8, #T_d39dd_row11_col8 {\n",
       "  background-color: #eef8ea;\n",
       "  color: #000000;\n",
       "}\n",
       "#T_d39dd_row0_col6, #T_d39dd_row2_col5, #T_d39dd_row3_col6 {\n",
       "  background-color: #edf8ea;\n",
       "  color: #000000;\n",
       "}\n",
       "#T_d39dd_row0_col7, #T_d39dd_row3_col9, #T_d39dd_row7_col1 {\n",
       "  background-color: #ecf8e8;\n",
       "  color: #000000;\n",
       "}\n",
       "#T_d39dd_row0_col8, #T_d39dd_row2_col6, #T_d39dd_row2_col8 {\n",
       "  background-color: #edf8e9;\n",
       "  color: #000000;\n",
       "}\n",
       "#T_d39dd_row0_col9, #T_d39dd_row1_col7 {\n",
       "  background-color: #f1faee;\n",
       "  color: #000000;\n",
       "}\n",
       "#T_d39dd_row0_col11, #T_d39dd_row1_col4, #T_d39dd_row2_col11, #T_d39dd_row9_col5 {\n",
       "  background-color: #d9f0d3;\n",
       "  color: #000000;\n",
       "}\n",
       "#T_d39dd_row1_col0, #T_d39dd_row1_col2, #T_d39dd_row2_col0, #T_d39dd_row3_col0, #T_d39dd_row3_col2, #T_d39dd_row4_col2, #T_d39dd_row6_col0, #T_d39dd_row7_col0, #T_d39dd_row7_col4, #T_d39dd_row8_col2, #T_d39dd_row10_col2, #T_d39dd_row10_col7, #T_d39dd_row10_col9 {\n",
       "  background-color: #f6fcf4;\n",
       "  color: #000000;\n",
       "}\n",
       "#T_d39dd_row1_col3, #T_d39dd_row3_col5 {\n",
       "  background-color: #ebf7e7;\n",
       "  color: #000000;\n",
       "}\n",
       "#T_d39dd_row1_col6, #T_d39dd_row5_col4, #T_d39dd_row6_col10, #T_d39dd_row8_col6, #T_d39dd_row10_col6, #T_d39dd_row11_col10 {\n",
       "  background-color: #f0f9ec;\n",
       "  color: #000000;\n",
       "}\n",
       "#T_d39dd_row1_col9 {\n",
       "  background-color: #f2faef;\n",
       "  color: #000000;\n",
       "}\n",
       "#T_d39dd_row1_col10, #T_d39dd_row6_col9, #T_d39dd_row7_col6 {\n",
       "  background-color: #dcf2d7;\n",
       "  color: #000000;\n",
       "}\n",
       "#T_d39dd_row1_col11, #T_d39dd_row4_col1 {\n",
       "  background-color: #cfecc9;\n",
       "  color: #000000;\n",
       "}\n",
       "#T_d39dd_row2_col1 {\n",
       "  background-color: #e8f6e4;\n",
       "  color: #000000;\n",
       "}\n",
       "#T_d39dd_row2_col3, #T_d39dd_row4_col11 {\n",
       "  background-color: #daf0d4;\n",
       "  color: #000000;\n",
       "}\n",
       "#T_d39dd_row2_col4, #T_d39dd_row4_col6, #T_d39dd_row8_col5, #T_d39dd_row11_col4 {\n",
       "  background-color: #eff9ec;\n",
       "  color: #000000;\n",
       "}\n",
       "#T_d39dd_row2_col9, #T_d39dd_row6_col4 {\n",
       "  background-color: #f0f9ed;\n",
       "  color: #000000;\n",
       "}\n",
       "#T_d39dd_row3_col1, #T_d39dd_row3_col4, #T_d39dd_row3_col11, #T_d39dd_row4_col0, #T_d39dd_row5_col0, #T_d39dd_row5_col6, #T_d39dd_row6_col5, #T_d39dd_row7_col2, #T_d39dd_row7_col8, #T_d39dd_row7_col10, #T_d39dd_row8_col0, #T_d39dd_row8_col7, #T_d39dd_row8_col9, #T_d39dd_row9_col0, #T_d39dd_row10_col0, #T_d39dd_row11_col0, #T_d39dd_row11_col3 {\n",
       "  background-color: #f7fcf5;\n",
       "  color: #000000;\n",
       "}\n",
       "#T_d39dd_row3_col7, #T_d39dd_row8_col1 {\n",
       "  background-color: #d1edcb;\n",
       "  color: #000000;\n",
       "}\n",
       "#T_d39dd_row3_col8, #T_d39dd_row6_col2, #T_d39dd_row9_col2 {\n",
       "  background-color: #f5fbf2;\n",
       "  color: #000000;\n",
       "}\n",
       "#T_d39dd_row4_col3, #T_d39dd_row8_col3 {\n",
       "  background-color: #e5f5e0;\n",
       "  color: #000000;\n",
       "}\n",
       "#T_d39dd_row4_col7 {\n",
       "  background-color: #f4fbf2;\n",
       "  color: #000000;\n",
       "}\n",
       "#T_d39dd_row4_col8, #T_d39dd_row4_col10, #T_d39dd_row8_col4, #T_d39dd_row10_col4 {\n",
       "  background-color: #00481d;\n",
       "  color: #f1f1f1;\n",
       "}\n",
       "#T_d39dd_row5_col1, #T_d39dd_row9_col1 {\n",
       "  background-color: #e9f7e5;\n",
       "  color: #000000;\n",
       "}\n",
       "#T_d39dd_row5_col3 {\n",
       "  background-color: #d4eece;\n",
       "  color: #000000;\n",
       "}\n",
       "#T_d39dd_row5_col7 {\n",
       "  background-color: #e6f5e1;\n",
       "  color: #000000;\n",
       "}\n",
       "#T_d39dd_row5_col9, #T_d39dd_row11_col6 {\n",
       "  background-color: #ddf2d8;\n",
       "  color: #000000;\n",
       "}\n",
       "#T_d39dd_row5_col11, #T_d39dd_row11_col7 {\n",
       "  background-color: #e1f3dc;\n",
       "  color: #000000;\n",
       "}\n",
       "#T_d39dd_row6_col1 {\n",
       "  background-color: #eaf7e6;\n",
       "  color: #000000;\n",
       "}\n",
       "#T_d39dd_row6_col7 {\n",
       "  background-color: #dbf1d5;\n",
       "  color: #000000;\n",
       "}\n",
       "#T_d39dd_row6_col11 {\n",
       "  background-color: #c4e8bd;\n",
       "  color: #000000;\n",
       "}\n",
       "#T_d39dd_row7_col3 {\n",
       "  background-color: #b8e3b2;\n",
       "  color: #000000;\n",
       "}\n",
       "#T_d39dd_row7_col5 {\n",
       "  background-color: #e7f6e3;\n",
       "  color: #000000;\n",
       "}\n",
       "#T_d39dd_row7_col9 {\n",
       "  background-color: #83cb82;\n",
       "  color: #000000;\n",
       "}\n",
       "#T_d39dd_row7_col11 {\n",
       "  background-color: #caeac3;\n",
       "  color: #000000;\n",
       "}\n",
       "#T_d39dd_row8_col10, #T_d39dd_row10_col8 {\n",
       "  background-color: #00451c;\n",
       "  color: #f1f1f1;\n",
       "}\n",
       "#T_d39dd_row8_col11, #T_d39dd_row10_col11, #T_d39dd_row11_col9 {\n",
       "  background-color: #dbf1d6;\n",
       "  color: #000000;\n",
       "}\n",
       "#T_d39dd_row9_col3 {\n",
       "  background-color: #d2edcc;\n",
       "  color: #000000;\n",
       "}\n",
       "#T_d39dd_row9_col4, #T_d39dd_row9_col10 {\n",
       "  background-color: #f3faf0;\n",
       "  color: #000000;\n",
       "}\n",
       "#T_d39dd_row9_col7 {\n",
       "  background-color: #7dc87e;\n",
       "  color: #000000;\n",
       "}\n",
       "#T_d39dd_row9_col8 {\n",
       "  background-color: #f2faf0;\n",
       "  color: #000000;\n",
       "}\n",
       "#T_d39dd_row9_col11 {\n",
       "  background-color: #bde5b6;\n",
       "  color: #000000;\n",
       "}\n",
       "#T_d39dd_row10_col1 {\n",
       "  background-color: #d5efcf;\n",
       "  color: #000000;\n",
       "}\n",
       "#T_d39dd_row10_col3 {\n",
       "  background-color: #e4f5df;\n",
       "  color: #000000;\n",
       "}\n",
       "#T_d39dd_row11_col1 {\n",
       "  background-color: #e0f3db;\n",
       "  color: #000000;\n",
       "}\n",
       "#T_d39dd_row11_col5 {\n",
       "  background-color: #f4fbf1;\n",
       "  color: #000000;\n",
       "}\n",
       "</style>\n",
       "<table id=\"T_d39dd_\">\n",
       "  <thead>\n",
       "    <tr>\n",
       "      <th class=\"blank level0\" >&nbsp;</th>\n",
       "      <th class=\"col_heading level0 col0\" >Unnamed: 0</th>\n",
       "      <th class=\"col_heading level0 col1\" >SeriousDlqin2yrs</th>\n",
       "      <th class=\"col_heading level0 col2\" >RevolvingUtilizationOfUnsecuredLines</th>\n",
       "      <th class=\"col_heading level0 col3\" >age</th>\n",
       "      <th class=\"col_heading level0 col4\" >NumberOfTime30-59DaysPastDueNotWorse</th>\n",
       "      <th class=\"col_heading level0 col5\" >DebtRatio</th>\n",
       "      <th class=\"col_heading level0 col6\" >MonthlyIncome</th>\n",
       "      <th class=\"col_heading level0 col7\" >NumberOfOpenCreditLinesAndLoans</th>\n",
       "      <th class=\"col_heading level0 col8\" >NumberOfTimes90DaysLate</th>\n",
       "      <th class=\"col_heading level0 col9\" >NumberRealEstateLoansOrLines</th>\n",
       "      <th class=\"col_heading level0 col10\" >NumberOfTime60-89DaysPastDueNotWorse</th>\n",
       "      <th class=\"col_heading level0 col11\" >NumberOfDependents</th>\n",
       "    </tr>\n",
       "  </thead>\n",
       "  <tbody>\n",
       "    <tr>\n",
       "      <th id=\"T_d39dd_level0_row0\" class=\"row_heading level0 row0\" >Unnamed: 0</th>\n",
       "      <td id=\"T_d39dd_row0_col0\" class=\"data row0 col0\" >1.000000</td>\n",
       "      <td id=\"T_d39dd_row0_col1\" class=\"data row0 col1\" >0.002801</td>\n",
       "      <td id=\"T_d39dd_row0_col2\" class=\"data row0 col2\" >0.002372</td>\n",
       "      <td id=\"T_d39dd_row0_col3\" class=\"data row0 col3\" >0.004403</td>\n",
       "      <td id=\"T_d39dd_row0_col4\" class=\"data row0 col4\" >-0.000571</td>\n",
       "      <td id=\"T_d39dd_row0_col5\" class=\"data row0 col5\" >-0.002906</td>\n",
       "      <td id=\"T_d39dd_row0_col6\" class=\"data row0 col6\" >0.002547</td>\n",
       "      <td id=\"T_d39dd_row0_col7\" class=\"data row0 col7\" >0.004586</td>\n",
       "      <td id=\"T_d39dd_row0_col8\" class=\"data row0 col8\" >-0.001104</td>\n",
       "      <td id=\"T_d39dd_row0_col9\" class=\"data row0 col9\" >-0.000666</td>\n",
       "      <td id=\"T_d39dd_row0_col10\" class=\"data row0 col10\" >-0.000777</td>\n",
       "      <td id=\"T_d39dd_row0_col11\" class=\"data row0 col11\" >0.000148</td>\n",
       "    </tr>\n",
       "    <tr>\n",
       "      <th id=\"T_d39dd_level0_row1\" class=\"row_heading level0 row1\" >SeriousDlqin2yrs</th>\n",
       "      <td id=\"T_d39dd_row1_col0\" class=\"data row1 col0\" >0.002801</td>\n",
       "      <td id=\"T_d39dd_row1_col1\" class=\"data row1 col1\" >1.000000</td>\n",
       "      <td id=\"T_d39dd_row1_col2\" class=\"data row1 col2\" >-0.001802</td>\n",
       "      <td id=\"T_d39dd_row1_col3\" class=\"data row1 col3\" >-0.115386</td>\n",
       "      <td id=\"T_d39dd_row1_col4\" class=\"data row1 col4\" >0.125587</td>\n",
       "      <td id=\"T_d39dd_row1_col5\" class=\"data row1 col5\" >-0.007602</td>\n",
       "      <td id=\"T_d39dd_row1_col6\" class=\"data row1 col6\" >-0.013322</td>\n",
       "      <td id=\"T_d39dd_row1_col7\" class=\"data row1 col7\" >-0.029669</td>\n",
       "      <td id=\"T_d39dd_row1_col8\" class=\"data row1 col8\" >0.117175</td>\n",
       "      <td id=\"T_d39dd_row1_col9\" class=\"data row1 col9\" >-0.007038</td>\n",
       "      <td id=\"T_d39dd_row1_col10\" class=\"data row1 col10\" >0.102261</td>\n",
       "      <td id=\"T_d39dd_row1_col11\" class=\"data row1 col11\" >0.046869</td>\n",
       "    </tr>\n",
       "    <tr>\n",
       "      <th id=\"T_d39dd_level0_row2\" class=\"row_heading level0 row2\" >RevolvingUtilizationOfUnsecuredLines</th>\n",
       "      <td id=\"T_d39dd_row2_col0\" class=\"data row2 col0\" >0.002372</td>\n",
       "      <td id=\"T_d39dd_row2_col1\" class=\"data row2 col1\" >-0.001802</td>\n",
       "      <td id=\"T_d39dd_row2_col2\" class=\"data row2 col2\" >1.000000</td>\n",
       "      <td id=\"T_d39dd_row2_col3\" class=\"data row2 col3\" >-0.005898</td>\n",
       "      <td id=\"T_d39dd_row2_col4\" class=\"data row2 col4\" >-0.001314</td>\n",
       "      <td id=\"T_d39dd_row2_col5\" class=\"data row2 col5\" >0.003961</td>\n",
       "      <td id=\"T_d39dd_row2_col6\" class=\"data row2 col6\" >0.006188</td>\n",
       "      <td id=\"T_d39dd_row2_col7\" class=\"data row2 col7\" >-0.011281</td>\n",
       "      <td id=\"T_d39dd_row2_col8\" class=\"data row2 col8\" >-0.001061</td>\n",
       "      <td id=\"T_d39dd_row2_col9\" class=\"data row2 col9\" >0.006235</td>\n",
       "      <td id=\"T_d39dd_row2_col10\" class=\"data row2 col10\" >-0.001048</td>\n",
       "      <td id=\"T_d39dd_row2_col11\" class=\"data row2 col11\" >0.001193</td>\n",
       "    </tr>\n",
       "    <tr>\n",
       "      <th id=\"T_d39dd_level0_row3\" class=\"row_heading level0 row3\" >age</th>\n",
       "      <td id=\"T_d39dd_row3_col0\" class=\"data row3 col0\" >0.004403</td>\n",
       "      <td id=\"T_d39dd_row3_col1\" class=\"data row3 col1\" >-0.115386</td>\n",
       "      <td id=\"T_d39dd_row3_col2\" class=\"data row3 col2\" >-0.005898</td>\n",
       "      <td id=\"T_d39dd_row3_col3\" class=\"data row3 col3\" >1.000000</td>\n",
       "      <td id=\"T_d39dd_row3_col4\" class=\"data row3 col4\" >-0.062995</td>\n",
       "      <td id=\"T_d39dd_row3_col5\" class=\"data row3 col5\" >0.024188</td>\n",
       "      <td id=\"T_d39dd_row3_col6\" class=\"data row3 col6\" >0.004626</td>\n",
       "      <td id=\"T_d39dd_row3_col7\" class=\"data row3 col7\" >0.147705</td>\n",
       "      <td id=\"T_d39dd_row3_col8\" class=\"data row3 col8\" >-0.061005</td>\n",
       "      <td id=\"T_d39dd_row3_col9\" class=\"data row3 col9\" >0.033150</td>\n",
       "      <td id=\"T_d39dd_row3_col10\" class=\"data row3 col10\" >-0.057159</td>\n",
       "      <td id=\"T_d39dd_row3_col11\" class=\"data row3 col11\" >-0.215693</td>\n",
       "    </tr>\n",
       "    <tr>\n",
       "      <th id=\"T_d39dd_level0_row4\" class=\"row_heading level0 row4\" >NumberOfTime30-59DaysPastDueNotWorse</th>\n",
       "      <td id=\"T_d39dd_row4_col0\" class=\"data row4 col0\" >-0.000571</td>\n",
       "      <td id=\"T_d39dd_row4_col1\" class=\"data row4 col1\" >0.125587</td>\n",
       "      <td id=\"T_d39dd_row4_col2\" class=\"data row4 col2\" >-0.001314</td>\n",
       "      <td id=\"T_d39dd_row4_col3\" class=\"data row4 col3\" >-0.062995</td>\n",
       "      <td id=\"T_d39dd_row4_col4\" class=\"data row4 col4\" >1.000000</td>\n",
       "      <td id=\"T_d39dd_row4_col5\" class=\"data row4 col5\" >-0.006542</td>\n",
       "      <td id=\"T_d39dd_row4_col6\" class=\"data row4 col6\" >-0.011286</td>\n",
       "      <td id=\"T_d39dd_row4_col7\" class=\"data row4 col7\" >-0.055312</td>\n",
       "      <td id=\"T_d39dd_row4_col8\" class=\"data row4 col8\" >0.983603</td>\n",
       "      <td id=\"T_d39dd_row4_col9\" class=\"data row4 col9\" >-0.030565</td>\n",
       "      <td id=\"T_d39dd_row4_col10\" class=\"data row4 col10\" >0.987005</td>\n",
       "      <td id=\"T_d39dd_row4_col11\" class=\"data row4 col11\" >-0.004590</td>\n",
       "    </tr>\n",
       "    <tr>\n",
       "      <th id=\"T_d39dd_level0_row5\" class=\"row_heading level0 row5\" >DebtRatio</th>\n",
       "      <td id=\"T_d39dd_row5_col0\" class=\"data row5 col0\" >-0.002906</td>\n",
       "      <td id=\"T_d39dd_row5_col1\" class=\"data row5 col1\" >-0.007602</td>\n",
       "      <td id=\"T_d39dd_row5_col2\" class=\"data row5 col2\" >0.003961</td>\n",
       "      <td id=\"T_d39dd_row5_col3\" class=\"data row5 col3\" >0.024188</td>\n",
       "      <td id=\"T_d39dd_row5_col4\" class=\"data row5 col4\" >-0.006542</td>\n",
       "      <td id=\"T_d39dd_row5_col5\" class=\"data row5 col5\" >1.000000</td>\n",
       "      <td id=\"T_d39dd_row5_col6\" class=\"data row5 col6\" >-0.070378</td>\n",
       "      <td id=\"T_d39dd_row5_col7\" class=\"data row5 col7\" >0.049565</td>\n",
       "      <td id=\"T_d39dd_row5_col8\" class=\"data row5 col8\" >-0.008320</td>\n",
       "      <td id=\"T_d39dd_row5_col9\" class=\"data row5 col9\" >0.120046</td>\n",
       "      <td id=\"T_d39dd_row5_col10\" class=\"data row5 col10\" >-0.007533</td>\n",
       "      <td id=\"T_d39dd_row5_col11\" class=\"data row5 col11\" >-0.044476</td>\n",
       "    </tr>\n",
       "    <tr>\n",
       "      <th id=\"T_d39dd_level0_row6\" class=\"row_heading level0 row6\" >MonthlyIncome</th>\n",
       "      <td id=\"T_d39dd_row6_col0\" class=\"data row6 col0\" >0.002547</td>\n",
       "      <td id=\"T_d39dd_row6_col1\" class=\"data row6 col1\" >-0.013322</td>\n",
       "      <td id=\"T_d39dd_row6_col2\" class=\"data row6 col2\" >0.006188</td>\n",
       "      <td id=\"T_d39dd_row6_col3\" class=\"data row6 col3\" >0.004626</td>\n",
       "      <td id=\"T_d39dd_row6_col4\" class=\"data row6 col4\" >-0.011286</td>\n",
       "      <td id=\"T_d39dd_row6_col5\" class=\"data row6 col5\" >-0.070378</td>\n",
       "      <td id=\"T_d39dd_row6_col6\" class=\"data row6 col6\" >1.000000</td>\n",
       "      <td id=\"T_d39dd_row6_col7\" class=\"data row6 col7\" >0.104777</td>\n",
       "      <td id=\"T_d39dd_row6_col8\" class=\"data row6 col8\" >-0.014559</td>\n",
       "      <td id=\"T_d39dd_row6_col9\" class=\"data row6 col9\" >0.124531</td>\n",
       "      <td id=\"T_d39dd_row6_col10\" class=\"data row6 col10\" >-0.013232</td>\n",
       "      <td id=\"T_d39dd_row6_col11\" class=\"data row6 col11\" >0.099020</td>\n",
       "    </tr>\n",
       "    <tr>\n",
       "      <th id=\"T_d39dd_level0_row7\" class=\"row_heading level0 row7\" >NumberOfOpenCreditLinesAndLoans</th>\n",
       "      <td id=\"T_d39dd_row7_col0\" class=\"data row7 col0\" >0.004586</td>\n",
       "      <td id=\"T_d39dd_row7_col1\" class=\"data row7 col1\" >-0.029669</td>\n",
       "      <td id=\"T_d39dd_row7_col2\" class=\"data row7 col2\" >-0.011281</td>\n",
       "      <td id=\"T_d39dd_row7_col3\" class=\"data row7 col3\" >0.147705</td>\n",
       "      <td id=\"T_d39dd_row7_col4\" class=\"data row7 col4\" >-0.055312</td>\n",
       "      <td id=\"T_d39dd_row7_col5\" class=\"data row7 col5\" >0.049565</td>\n",
       "      <td id=\"T_d39dd_row7_col6\" class=\"data row7 col6\" >0.104777</td>\n",
       "      <td id=\"T_d39dd_row7_col7\" class=\"data row7 col7\" >1.000000</td>\n",
       "      <td id=\"T_d39dd_row7_col8\" class=\"data row7 col8\" >-0.079984</td>\n",
       "      <td id=\"T_d39dd_row7_col9\" class=\"data row7 col9\" >0.433959</td>\n",
       "      <td id=\"T_d39dd_row7_col10\" class=\"data row7 col10\" >-0.071077</td>\n",
       "      <td id=\"T_d39dd_row7_col11\" class=\"data row7 col11\" >0.074026</td>\n",
       "    </tr>\n",
       "    <tr>\n",
       "      <th id=\"T_d39dd_level0_row8\" class=\"row_heading level0 row8\" >NumberOfTimes90DaysLate</th>\n",
       "      <td id=\"T_d39dd_row8_col0\" class=\"data row8 col0\" >-0.001104</td>\n",
       "      <td id=\"T_d39dd_row8_col1\" class=\"data row8 col1\" >0.117175</td>\n",
       "      <td id=\"T_d39dd_row8_col2\" class=\"data row8 col2\" >-0.001061</td>\n",
       "      <td id=\"T_d39dd_row8_col3\" class=\"data row8 col3\" >-0.061005</td>\n",
       "      <td id=\"T_d39dd_row8_col4\" class=\"data row8 col4\" >0.983603</td>\n",
       "      <td id=\"T_d39dd_row8_col5\" class=\"data row8 col5\" >-0.008320</td>\n",
       "      <td id=\"T_d39dd_row8_col6\" class=\"data row8 col6\" >-0.014559</td>\n",
       "      <td id=\"T_d39dd_row8_col7\" class=\"data row8 col7\" >-0.079984</td>\n",
       "      <td id=\"T_d39dd_row8_col8\" class=\"data row8 col8\" >1.000000</td>\n",
       "      <td id=\"T_d39dd_row8_col9\" class=\"data row8 col9\" >-0.045205</td>\n",
       "      <td id=\"T_d39dd_row8_col10\" class=\"data row8 col10\" >0.992796</td>\n",
       "      <td id=\"T_d39dd_row8_col11\" class=\"data row8 col11\" >-0.011962</td>\n",
       "    </tr>\n",
       "    <tr>\n",
       "      <th id=\"T_d39dd_level0_row9\" class=\"row_heading level0 row9\" >NumberRealEstateLoansOrLines</th>\n",
       "      <td id=\"T_d39dd_row9_col0\" class=\"data row9 col0\" >-0.000666</td>\n",
       "      <td id=\"T_d39dd_row9_col1\" class=\"data row9 col1\" >-0.007038</td>\n",
       "      <td id=\"T_d39dd_row9_col2\" class=\"data row9 col2\" >0.006235</td>\n",
       "      <td id=\"T_d39dd_row9_col3\" class=\"data row9 col3\" >0.033150</td>\n",
       "      <td id=\"T_d39dd_row9_col4\" class=\"data row9 col4\" >-0.030565</td>\n",
       "      <td id=\"T_d39dd_row9_col5\" class=\"data row9 col5\" >0.120046</td>\n",
       "      <td id=\"T_d39dd_row9_col6\" class=\"data row9 col6\" >0.124531</td>\n",
       "      <td id=\"T_d39dd_row9_col7\" class=\"data row9 col7\" >0.433959</td>\n",
       "      <td id=\"T_d39dd_row9_col8\" class=\"data row9 col8\" >-0.045205</td>\n",
       "      <td id=\"T_d39dd_row9_col9\" class=\"data row9 col9\" >1.000000</td>\n",
       "      <td id=\"T_d39dd_row9_col10\" class=\"data row9 col10\" >-0.039722</td>\n",
       "      <td id=\"T_d39dd_row9_col11\" class=\"data row9 col11\" >0.129399</td>\n",
       "    </tr>\n",
       "    <tr>\n",
       "      <th id=\"T_d39dd_level0_row10\" class=\"row_heading level0 row10\" >NumberOfTime60-89DaysPastDueNotWorse</th>\n",
       "      <td id=\"T_d39dd_row10_col0\" class=\"data row10 col0\" >-0.000777</td>\n",
       "      <td id=\"T_d39dd_row10_col1\" class=\"data row10 col1\" >0.102261</td>\n",
       "      <td id=\"T_d39dd_row10_col2\" class=\"data row10 col2\" >-0.001048</td>\n",
       "      <td id=\"T_d39dd_row10_col3\" class=\"data row10 col3\" >-0.057159</td>\n",
       "      <td id=\"T_d39dd_row10_col4\" class=\"data row10 col4\" >0.987005</td>\n",
       "      <td id=\"T_d39dd_row10_col5\" class=\"data row10 col5\" >-0.007533</td>\n",
       "      <td id=\"T_d39dd_row10_col6\" class=\"data row10 col6\" >-0.013232</td>\n",
       "      <td id=\"T_d39dd_row10_col7\" class=\"data row10 col7\" >-0.071077</td>\n",
       "      <td id=\"T_d39dd_row10_col8\" class=\"data row10 col8\" >0.992796</td>\n",
       "      <td id=\"T_d39dd_row10_col9\" class=\"data row10 col9\" >-0.039722</td>\n",
       "      <td id=\"T_d39dd_row10_col10\" class=\"data row10 col10\" >1.000000</td>\n",
       "      <td id=\"T_d39dd_row10_col11\" class=\"data row10 col11\" >-0.012678</td>\n",
       "    </tr>\n",
       "    <tr>\n",
       "      <th id=\"T_d39dd_level0_row11\" class=\"row_heading level0 row11\" >NumberOfDependents</th>\n",
       "      <td id=\"T_d39dd_row11_col0\" class=\"data row11 col0\" >0.000148</td>\n",
       "      <td id=\"T_d39dd_row11_col1\" class=\"data row11 col1\" >0.046869</td>\n",
       "      <td id=\"T_d39dd_row11_col2\" class=\"data row11 col2\" >0.001193</td>\n",
       "      <td id=\"T_d39dd_row11_col3\" class=\"data row11 col3\" >-0.215693</td>\n",
       "      <td id=\"T_d39dd_row11_col4\" class=\"data row11 col4\" >-0.004590</td>\n",
       "      <td id=\"T_d39dd_row11_col5\" class=\"data row11 col5\" >-0.044476</td>\n",
       "      <td id=\"T_d39dd_row11_col6\" class=\"data row11 col6\" >0.099020</td>\n",
       "      <td id=\"T_d39dd_row11_col7\" class=\"data row11 col7\" >0.074026</td>\n",
       "      <td id=\"T_d39dd_row11_col8\" class=\"data row11 col8\" >-0.011962</td>\n",
       "      <td id=\"T_d39dd_row11_col9\" class=\"data row11 col9\" >0.129399</td>\n",
       "      <td id=\"T_d39dd_row11_col10\" class=\"data row11 col10\" >-0.012678</td>\n",
       "      <td id=\"T_d39dd_row11_col11\" class=\"data row11 col11\" >1.000000</td>\n",
       "    </tr>\n",
       "  </tbody>\n",
       "</table>\n"
      ],
      "text/plain": [
       "<pandas.io.formats.style.Styler at 0x296c018deb8>"
      ]
     },
     "execution_count": 72,
     "metadata": {},
     "output_type": "execute_result"
    }
   ],
   "source": [
    "pear_corr=df.corr(method='pearson')\n",
    "pear_corr.style.background_gradient(cmap='Greens', axis=0)"
   ]
  },
  {
   "cell_type": "code",
   "execution_count": 73,
   "metadata": {},
   "outputs": [
    {
     "data": {
      "text/html": [
       "<style type=\"text/css\">\n",
       "#T_12e3c_row0_col0, #T_12e3c_row1_col1, #T_12e3c_row2_col2, #T_12e3c_row3_col3, #T_12e3c_row4_col4 {\n",
       "  background-color: #00441b;\n",
       "  color: #f1f1f1;\n",
       "}\n",
       "#T_12e3c_row0_col1, #T_12e3c_row0_col2, #T_12e3c_row1_col0, #T_12e3c_row2_col0 {\n",
       "  background-color: #00481d;\n",
       "  color: #f1f1f1;\n",
       "}\n",
       "#T_12e3c_row0_col3 {\n",
       "  background-color: #f5fbf3;\n",
       "  color: #000000;\n",
       "}\n",
       "#T_12e3c_row0_col4 {\n",
       "  background-color: #f4fbf2;\n",
       "  color: #000000;\n",
       "}\n",
       "#T_12e3c_row1_col2, #T_12e3c_row2_col1 {\n",
       "  background-color: #00451c;\n",
       "  color: #f1f1f1;\n",
       "}\n",
       "#T_12e3c_row1_col3, #T_12e3c_row1_col4 {\n",
       "  background-color: #f6fcf4;\n",
       "  color: #000000;\n",
       "}\n",
       "#T_12e3c_row2_col3, #T_12e3c_row2_col4, #T_12e3c_row4_col0, #T_12e3c_row4_col1, #T_12e3c_row4_col2 {\n",
       "  background-color: #f7fcf5;\n",
       "  color: #000000;\n",
       "}\n",
       "#T_12e3c_row3_col0 {\n",
       "  background-color: #f4fbf1;\n",
       "  color: #000000;\n",
       "}\n",
       "#T_12e3c_row3_col1 {\n",
       "  background-color: #f3faf0;\n",
       "  color: #000000;\n",
       "}\n",
       "#T_12e3c_row3_col2 {\n",
       "  background-color: #f2faf0;\n",
       "  color: #000000;\n",
       "}\n",
       "#T_12e3c_row3_col4 {\n",
       "  background-color: #7dc87e;\n",
       "  color: #000000;\n",
       "}\n",
       "#T_12e3c_row4_col3 {\n",
       "  background-color: #83cb82;\n",
       "  color: #000000;\n",
       "}\n",
       "</style>\n",
       "<table id=\"T_12e3c_\">\n",
       "  <thead>\n",
       "    <tr>\n",
       "      <th class=\"blank level0\" >&nbsp;</th>\n",
       "      <th class=\"col_heading level0 col0\" >NumberOfTime30-59DaysPastDueNotWorse</th>\n",
       "      <th class=\"col_heading level0 col1\" >NumberOfTime60-89DaysPastDueNotWorse</th>\n",
       "      <th class=\"col_heading level0 col2\" >NumberOfTimes90DaysLate</th>\n",
       "      <th class=\"col_heading level0 col3\" >NumberRealEstateLoansOrLines</th>\n",
       "      <th class=\"col_heading level0 col4\" >NumberOfOpenCreditLinesAndLoans</th>\n",
       "    </tr>\n",
       "  </thead>\n",
       "  <tbody>\n",
       "    <tr>\n",
       "      <th id=\"T_12e3c_level0_row0\" class=\"row_heading level0 row0\" >NumberOfTime30-59DaysPastDueNotWorse</th>\n",
       "      <td id=\"T_12e3c_row0_col0\" class=\"data row0 col0\" >1.000000</td>\n",
       "      <td id=\"T_12e3c_row0_col1\" class=\"data row0 col1\" >0.987005</td>\n",
       "      <td id=\"T_12e3c_row0_col2\" class=\"data row0 col2\" >0.983603</td>\n",
       "      <td id=\"T_12e3c_row0_col3\" class=\"data row0 col3\" >-0.030565</td>\n",
       "      <td id=\"T_12e3c_row0_col4\" class=\"data row0 col4\" >-0.055312</td>\n",
       "    </tr>\n",
       "    <tr>\n",
       "      <th id=\"T_12e3c_level0_row1\" class=\"row_heading level0 row1\" >NumberOfTime60-89DaysPastDueNotWorse</th>\n",
       "      <td id=\"T_12e3c_row1_col0\" class=\"data row1 col0\" >0.987005</td>\n",
       "      <td id=\"T_12e3c_row1_col1\" class=\"data row1 col1\" >1.000000</td>\n",
       "      <td id=\"T_12e3c_row1_col2\" class=\"data row1 col2\" >0.992796</td>\n",
       "      <td id=\"T_12e3c_row1_col3\" class=\"data row1 col3\" >-0.039722</td>\n",
       "      <td id=\"T_12e3c_row1_col4\" class=\"data row1 col4\" >-0.071077</td>\n",
       "    </tr>\n",
       "    <tr>\n",
       "      <th id=\"T_12e3c_level0_row2\" class=\"row_heading level0 row2\" >NumberOfTimes90DaysLate</th>\n",
       "      <td id=\"T_12e3c_row2_col0\" class=\"data row2 col0\" >0.983603</td>\n",
       "      <td id=\"T_12e3c_row2_col1\" class=\"data row2 col1\" >0.992796</td>\n",
       "      <td id=\"T_12e3c_row2_col2\" class=\"data row2 col2\" >1.000000</td>\n",
       "      <td id=\"T_12e3c_row2_col3\" class=\"data row2 col3\" >-0.045205</td>\n",
       "      <td id=\"T_12e3c_row2_col4\" class=\"data row2 col4\" >-0.079984</td>\n",
       "    </tr>\n",
       "    <tr>\n",
       "      <th id=\"T_12e3c_level0_row3\" class=\"row_heading level0 row3\" >NumberRealEstateLoansOrLines</th>\n",
       "      <td id=\"T_12e3c_row3_col0\" class=\"data row3 col0\" >-0.030565</td>\n",
       "      <td id=\"T_12e3c_row3_col1\" class=\"data row3 col1\" >-0.039722</td>\n",
       "      <td id=\"T_12e3c_row3_col2\" class=\"data row3 col2\" >-0.045205</td>\n",
       "      <td id=\"T_12e3c_row3_col3\" class=\"data row3 col3\" >1.000000</td>\n",
       "      <td id=\"T_12e3c_row3_col4\" class=\"data row3 col4\" >0.433959</td>\n",
       "    </tr>\n",
       "    <tr>\n",
       "      <th id=\"T_12e3c_level0_row4\" class=\"row_heading level0 row4\" >NumberOfOpenCreditLinesAndLoans</th>\n",
       "      <td id=\"T_12e3c_row4_col0\" class=\"data row4 col0\" >-0.055312</td>\n",
       "      <td id=\"T_12e3c_row4_col1\" class=\"data row4 col1\" >-0.071077</td>\n",
       "      <td id=\"T_12e3c_row4_col2\" class=\"data row4 col2\" >-0.079984</td>\n",
       "      <td id=\"T_12e3c_row4_col3\" class=\"data row4 col3\" >0.433959</td>\n",
       "      <td id=\"T_12e3c_row4_col4\" class=\"data row4 col4\" >1.000000</td>\n",
       "    </tr>\n",
       "  </tbody>\n",
       "</table>\n"
      ],
      "text/plain": [
       "<pandas.io.formats.style.Styler at 0x296c06dbc18>"
      ]
     },
     "execution_count": 73,
     "metadata": {},
     "output_type": "execute_result"
    }
   ],
   "source": [
    "pear_corr=df[[\"NumberOfTime30-59DaysPastDueNotWorse\", \"NumberOfTime60-89DaysPastDueNotWorse\",  \"NumberOfTimes90DaysLate\", \"NumberRealEstateLoansOrLines\", \"NumberOfOpenCreditLinesAndLoans\"]].corr(method='pearson')\n",
    "pear_corr.style.background_gradient(cmap='Greens', axis=0)"
   ]
  },
  {
   "cell_type": "code",
   "execution_count": null,
   "metadata": {},
   "outputs": [],
   "source": [
    "#a processed copy of the initial sample data is stored, this can enable the pgAdmin pgAgent job to routinely import cleaned data\n",
    "dest = os.getcwd() + \"\\\\processed_data\\\\\"\n",
    "f = dest + \"sample_data_processed.csv\"\n",
    "df.to_csv(f,index=False)"
   ]
  },
  {
   "cell_type": "code",
   "execution_count": null,
   "metadata": {},
   "outputs": [],
   "source": []
  },
  {
   "cell_type": "code",
   "execution_count": null,
   "metadata": {},
   "outputs": [],
   "source": [
    "for col in df.columns:\n",
    "    print(col, df[col].dtype)"
   ]
  },
  {
   "cell_type": "code",
   "execution_count": null,
   "metadata": {},
   "outputs": [],
   "source": [
    "sql_types_dict = {'int64' : 'int', 'float64': 'float'}"
   ]
  },
  {
   "cell_type": "code",
   "execution_count": null,
   "metadata": {},
   "outputs": [],
   "source": [
    "#The initial query to create the table to append the data is generated and the pandas data types are converted to sql data types\n",
    "create_table_left = '''CREATE TABLE LOAN_APPLICATIONS('''\n",
    "create_table_right = ''');'''\n",
    "\n",
    "cols = []\n",
    "for col in df.columns:\n",
    "    coltype = str(df[col].dtype).replace(\"dtype('\", \"\").replace(\"')\",\"\")\n",
    "    s = '''\"''' + col + '''\"''' + ''' ''' + sql_types_dict[coltype]\n",
    "    cols.append(s)\n",
    "s = ', '.join(cols)\n",
    "create_table = create_table_left + s + create_table_right\n",
    "print(create_table)"
   ]
  },
  {
   "cell_type": "code",
   "execution_count": null,
   "metadata": {},
   "outputs": [],
   "source": [
    "cursor.execute(create_table)"
   ]
  },
  {
   "cell_type": "code",
   "execution_count": null,
   "metadata": {},
   "outputs": [],
   "source": [
    "print(len(df.columns))"
   ]
  },
  {
   "cell_type": "code",
   "execution_count": 13,
   "metadata": {},
   "outputs": [],
   "source": [
    "copy_data = '''COPY public.loan_applications\n",
    "FROM '''+os.getcwd()+'''\\\\processed_data\\\\sample_data_processed.csv'\n",
    "DELIMITER ','\n",
    "CSV HEADER;'''\n",
    "cursor.execute(copy_data)"
   ]
  },
  {
   "cell_type": "code",
   "execution_count": 14,
   "metadata": {
    "scrolled": true
   },
   "outputs": [],
   "source": [
    "cursor.close()\n"
   ]
  },
  {
   "cell_type": "code",
   "execution_count": 15,
   "metadata": {},
   "outputs": [],
   "source": [
    "conn.commit()\n",
    "conn.close()"
   ]
  }
 ],
 "metadata": {
  "kernelspec": {
   "display_name": "Python 3",
   "language": "python",
   "name": "python3"
  },
  "language_info": {
   "codemirror_mode": {
    "name": "ipython",
    "version": 3
   },
   "file_extension": ".py",
   "mimetype": "text/x-python",
   "name": "python",
   "nbconvert_exporter": "python",
   "pygments_lexer": "ipython3",
   "version": "3.7.1"
  }
 },
 "nbformat": 4,
 "nbformat_minor": 2
}
